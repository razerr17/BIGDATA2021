{
 "cells": [
  {
   "cell_type": "markdown",
   "id": "86720aa2",
   "metadata": {},
   "source": [
    "### Ejercicio 02: Cree una función mediaDivN d n que devuelva la media de los n primeros números que devuelven True a la función del ejercicio anterior. Piense en cómo reducir el costo computacional. (8)"
   ]
  },
  {
   "cell_type": "code",
   "execution_count": 49,
   "id": "0bb484ef",
   "metadata": {},
   "outputs": [],
   "source": [
    "mcmdeLista :: [Int] -> Int\n",
    "mcmdeLista [] = 0\n",
    "mcmdeLista [x] = x\n",
    "mcmdeLista [x,y] =lcm x y\n",
    "mcmdeLista (x:xS) = lcm x (mcmdeLista xS)"
   ]
  },
  {
   "cell_type": "code",
   "execution_count": 32,
   "id": "43198fd9",
   "metadata": {},
   "outputs": [],
   "source": [
    "mcmdeLista :: [Int] -> Int\n",
    "mcmdeLista [] = 0\n",
    "mcmdeLista [x] = x\n",
    "mcmdeLista [x,y] =lcm x y\n",
    "mcmdeLista (x:xS) = lcm x (mcmdeLista xS)"
   ]
  },
  {
   "cell_type": "code",
   "execution_count": 33,
   "id": "7da1f9e9",
   "metadata": {},
   "outputs": [],
   "source": [
    "divisibleN :: Int -> Int -> Bool\n",
    "divisibleN n d = (n `mod` mcmdeLista [1..d] )== 0 "
   ]
  },
  {
   "cell_type": "code",
   "execution_count": 34,
   "id": "0bb94a1d",
   "metadata": {},
   "outputs": [],
   "source": [
    "mediaDivN :: Int -> Int -> Double\n",
    "mediaDivN d n = media\n",
    "    where\n",
    "        listaPrimeros= take n [i | i <-[1..],divisibleN i d]\n",
    "        media= fromIntegral sumaPrimeros / fromIntegral(length listaPrimeros)\n",
    "        sumaPrimeros=sum listaPrimeros"
   ]
  },
  {
   "cell_type": "code",
   "execution_count": 42,
   "id": "e87f386c",
   "metadata": {},
   "outputs": [],
   "source": [
    "mediaDivN2 :: Int -> Int -> Double\n",
    "mediaDivN2 d n =media\n",
    "    where\n",
    "        mcmD=mcmdeLista[1..d]\n",
    "        media=fromIntegral (mcmD*(n+1))/2"
   ]
  },
  {
   "cell_type": "code",
   "execution_count": 48,
   "id": "a1d7c39a",
   "metadata": {},
   "outputs": [
    {
     "data": {
      "text/plain": [
       "5.0"
      ]
     },
     "metadata": {},
     "output_type": "display_data"
    },
    {
     "data": {
      "text/plain": [
       "5.0"
      ]
     },
     "metadata": {},
     "output_type": "display_data"
    }
   ],
   "source": [
    "mediaDivN 2 4\n",
    "mediaDivN2 2 4"
   ]
  },
  {
   "cell_type": "code",
   "execution_count": 47,
   "id": "a425cd63",
   "metadata": {},
   "outputs": [
    {
     "data": {
      "text/plain": [
       "18.0"
      ]
     },
     "metadata": {},
     "output_type": "display_data"
    },
    {
     "data": {
      "text/plain": [
       "18.0"
      ]
     },
     "metadata": {},
     "output_type": "display_data"
    }
   ],
   "source": [
    "mediaDivN 3 5\n",
    "mediaDivN2 3 5"
   ]
  },
  {
   "cell_type": "code",
   "execution_count": 56,
   "id": "a54afc81",
   "metadata": {},
   "outputs": [
    {
     "data": {
      "text/plain": [
       "5.0"
      ]
     },
     "metadata": {},
     "output_type": "display_data"
    },
    {
     "data": {
      "text/plain": [
       "5.0"
      ]
     },
     "metadata": {},
     "output_type": "display_data"
    }
   ],
   "source": [
    "mediaDivN 2 4\n",
    "mediaDivN2 2 4"
   ]
  }
 ],
 "metadata": {
  "kernelspec": {
   "display_name": "Haskell",
   "language": "haskell",
   "name": "haskell"
  },
  "language_info": {
   "codemirror_mode": "ihaskell",
   "file_extension": ".hs",
   "mimetype": "text/x-haskell",
   "name": "haskell",
   "pygments_lexer": "Haskell",
   "version": "8.10.7"
  }
 },
 "nbformat": 4,
 "nbformat_minor": 5
}
