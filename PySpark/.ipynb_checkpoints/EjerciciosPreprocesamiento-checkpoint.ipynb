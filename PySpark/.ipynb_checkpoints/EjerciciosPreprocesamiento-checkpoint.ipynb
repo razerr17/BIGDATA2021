{
 "cells": [
  {
   "cell_type": "markdown",
   "id": "aca29ac9",
   "metadata": {},
   "source": [
    "# 5 EJERCICIOS DE PREPROCESAMIENTO"
   ]
  },
  {
   "cell_type": "markdown",
   "id": "e2006080",
   "metadata": {},
   "source": [
    "### 1.Similitud de Cosenos"
   ]
  },
  {
   "cell_type": "code",
   "execution_count": 7,
   "id": "78f64b4a",
   "metadata": {},
   "outputs": [],
   "source": [
    "def sCosenos(x,y):\n",
    "    \"\"\"Calcula la similitud de cosenos de 2 RDD\n",
    "    \n",
    "    Args:\n",
    "        X (RDD numeric):array RDD numeric\n",
    "        Y (RDD numeric):array RDD numeric\n",
    "    Returns:\n",
    "        double: distancia de cosenos de vectores X e Y\n",
    "    \"\"\"\n",
    "    def punto(x,y):\n",
    "        \"\"\"Producto punto de 2 RDD\n",
    "    \n",
    "        Args:\n",
    "            X (RDD numeric):array RDD numeric\n",
    "            Y (RDD numeric):array RDD numeric\n",
    "        Returns:\n",
    "            double: producto punto de X e Y\n",
    "        \"\"\"\n",
    "        return x.zip(y).map(lambda x: x[0]*x[1]).reduce(lambda x , y :x+y) #reducimos sumando los productos \n",
    "            #Unimos los vectores generando un array de tupla(valor,valor)\n",
    "            #mapeamos los valores multiplicandolos\n",
    "    num=punto(x,y)#numerador producto punto de x e y\n",
    "    den=punto(x,x)*punto(y,y)#denominador producto de los vectores normales de x e y\n",
    "    return num/den"
   ]
  },
  {
   "cell_type": "code",
   "execution_count": 9,
   "id": "1c8649b1",
   "metadata": {},
   "outputs": [
    {
     "name": "stdout",
     "output_type": "stream",
     "text": [
      "5.1313658596339945e-06\n"
     ]
    }
   ],
   "source": [
    "x = sc.parallelize(range(0,50),4)\n",
    "y = sc.parallelize(range(100, 150),4)\n",
    "print(sCosenos(x,y))"
   ]
  },
  {
   "cell_type": "markdown",
   "id": "5d06257b",
   "metadata": {},
   "source": [
    "### 2.Escalonamiento"
   ]
  },
  {
   "cell_type": "code",
   "execution_count": 14,
   "id": "cd8c256f",
   "metadata": {},
   "outputs": [],
   "source": [
    "def escalonamiento(x):\n",
    "    \"\"\"Escalonar los elementos de un RDD\n",
    "    \n",
    "    Args:\n",
    "        X (RDD numeric):array RDD numeric\n",
    "    Returns:\n",
    "        RDD: Vector escalonado\n",
    "    \"\"\"\n",
    "    minimo = x.min()#obtenemos el minimo elemento del RDD\n",
    "    maximo = x.max()#obtenemos el maximo elemento del RDD\n",
    "    lista= x.map(lambda xi : (xi-minimo)/(maximo-minimo))#escalonamos cada elemento com map\n",
    "    return lista #retornamos el RDD escalonado"
   ]
  },
  {
   "cell_type": "code",
   "execution_count": 15,
   "id": "46accf2f",
   "metadata": {},
   "outputs": [
    {
     "name": "stdout",
     "output_type": "stream",
     "text": [
      "[0.0, 0.1111111111111111, 0.2222222222222222, 0.3333333333333333, 0.4444444444444444, 0.5555555555555556, 0.6666666666666666, 0.7777777777777778, 0.8888888888888888, 1.0]\n"
     ]
    }
   ],
   "source": [
    "Vec = sc.parallelize(range(25,35),4)\n",
    "VectorEs=escalonamiento(Vec)\n",
    "print(VectorEs.collect())"
   ]
  },
  {
   "cell_type": "markdown",
   "id": "acf19960",
   "metadata": {},
   "source": [
    "### 3.Estandarizacion"
   ]
  },
  {
   "cell_type": "code",
   "execution_count": 12,
   "id": "e52c76dd",
   "metadata": {},
   "outputs": [],
   "source": [
    "def estandarizacion(x):\n",
    "    \"\"\"Estandariza los elementos de un RDD\n",
    "    \n",
    "    Args:\n",
    "        X (RDD numeric):array RDD numeric\n",
    "    Returns:\n",
    "        RDD: Vector estandarizado\n",
    "    \"\"\"\n",
    "    media  = x.mean()#obtenemos la media del RDD\n",
    "    std    = x.stdev()#obtenemos la desviacion estandar\n",
    "    lista= x.map(lambda xi : (xi-media)/std)#escalonamos cada elemento com map\n",
    "    return lista #retornamos el RDD escalonado"
   ]
  },
  {
   "cell_type": "code",
   "execution_count": 16,
   "id": "91fc06c4",
   "metadata": {},
   "outputs": [
    {
     "name": "stdout",
     "output_type": "stream",
     "text": [
      "[-1.5666989036012806, -1.2185435916898848, -0.8703882797784892, -0.5222329678670935, -0.17407765595569785, 0.17407765595569785, 0.5222329678670935, 0.8703882797784892, 1.2185435916898848, 1.5666989036012806]\n"
     ]
    }
   ],
   "source": [
    "Vec = sc.parallelize(range(25,35),4)\n",
    "VectorEs=estandarizacion(Vec)\n",
    "print(VectorEs.collect())"
   ]
  },
  {
   "cell_type": "markdown",
   "id": "a4a75f11",
   "metadata": {},
   "source": [
    "### 4.Normalizacion"
   ]
  },
  {
   "cell_type": "code",
   "execution_count": 31,
   "id": "a61fa425",
   "metadata": {},
   "outputs": [],
   "source": [
    "import math\n",
    "def normalizacion(x):\n",
    "    \"\"\"Normalizacion los elementos de un RDD\n",
    "    \n",
    "    Args:\n",
    "        X (RDD numeric):array RDD numeric\n",
    "    Returns:\n",
    "        RDD: Vector normalizado\n",
    "    \"\"\"\n",
    "    listaCuadrada=x.map(lambda xi:xi*xi)\n",
    "    total=listaCuadrada.sum()\n",
    "    val=math.sqrt(total)\n",
    "    lista= x.map(lambda xi :(xi/val))#escalonamos cada elemento com map\n",
    "    return lista #retornamos el RDD escalonado"
   ]
  },
  {
   "cell_type": "code",
   "execution_count": 32,
   "id": "37cd983b",
   "metadata": {},
   "outputs": [
    {
     "name": "stdout",
     "output_type": "stream",
     "text": [
      "[0.26672831766946736, 0.277397450376246, 0.28806658308302474, 0.2987357157898034, 0.3094048484965821, 0.32007398120336084, 0.3307431139101395, 0.3414122466169182, 0.3520813793236969, 0.3627505120304756]\n"
     ]
    }
   ],
   "source": [
    "Vec = sc.parallelize(range(25,35),4)\n",
    "VectorEs=normalizacion(Vec)\n",
    "print(VectorEs.collect())"
   ]
  },
  {
   "cell_type": "markdown",
   "id": "b161f03d",
   "metadata": {},
   "source": [
    "### 5.Binario"
   ]
  },
  {
   "cell_type": "code",
   "execution_count": 22,
   "id": "709d0b42",
   "metadata": {},
   "outputs": [],
   "source": [
    "def Binario(Doc):\n",
    "    \"\"\"Extrae los elementos [str]\n",
    "        y los converite en tuplas (str,int)\n",
    "    Args:\n",
    "        X (Doc de array de str):\n",
    "    Returns:\n",
    "        [(str,int)]: Vector de tuplas\n",
    "    \"\"\"\n",
    "    val=map(lambda x:(x,1),Doc)\n",
    "    return list(val)"
   ]
  },
  {
   "cell_type": "code",
   "execution_count": 30,
   "id": "e58981e1",
   "metadata": {},
   "outputs": [
    {
     "name": "stdout",
     "output_type": "stream",
     "text": [
      "[('messi', 1), ('messi', 1), ('messi', 1), ('ronaldo', 1), ('ronaldo', 1), ('balon', 1)]\n"
     ]
    },
    {
     "data": {
      "text/plain": [
       "[[('messi', 1),\n",
       "  ('messi', 1),\n",
       "  ('messi', 1),\n",
       "  ('ronaldo', 1),\n",
       "  ('ronaldo', 1),\n",
       "  ('balon', 1)],\n",
       " [('pogba', 1), ('neymar', 1), ('meta', 1), ('meta', 1), ('kun', 1)],\n",
       " [('messi', 1), ('balon', 1), ('kun', 1), ('kun', 1)]]"
      ]
     },
     "execution_count": 30,
     "metadata": {},
     "output_type": "execute_result"
    }
   ],
   "source": [
    "A=[[\"messi\",\"messi\",\"messi\",\"ronaldo\",\"ronaldo\",\"balon\"]\n",
    "    ,[\"pogba\",\"neymar\",\"meta\",\"meta\",\"kun\"]\n",
    "    ,[\"messi\",\"balon\",\"kun\",\"kun\"]]\n",
    "t=A[0]\n",
    "print(Binario(t))\n",
    "Vec = sc.parallelize(A,4)\n",
    "Vec2 = Vec.map(lambda x:Binario(x))\n",
    "Vec2.collect()"
   ]
  },
  {
   "cell_type": "code",
   "execution_count": null,
   "id": "a262b531",
   "metadata": {},
   "outputs": [],
   "source": []
  }
 ],
 "metadata": {
  "kernelspec": {
   "display_name": "Python 3 (ipykernel)",
   "language": "python",
   "name": "python3"
  },
  "language_info": {
   "codemirror_mode": {
    "name": "ipython",
    "version": 3
   },
   "file_extension": ".py",
   "mimetype": "text/x-python",
   "name": "python",
   "nbconvert_exporter": "python",
   "pygments_lexer": "ipython3",
   "version": "3.8.10"
  }
 },
 "nbformat": 4,
 "nbformat_minor": 5
}
