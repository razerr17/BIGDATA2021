{
 "cells": [
  {
   "cell_type": "markdown",
   "id": "ba08f89a",
   "metadata": {},
   "source": [
    "### Algoritmos en PYSPARK BOW.hs"
   ]
  },
  {
   "cell_type": "markdown",
   "id": "dbd33ef4",
   "metadata": {},
   "source": [
    "#### - bagofwords\n",
    "#### - tf\n",
    "#### - idf\n",
    "#### - tfidf\n",
    "#### - ngrams"
   ]
  },
  {
   "cell_type": "markdown",
   "id": "98554165",
   "metadata": {},
   "source": [
    "#### - BAGOFWORDS"
   ]
  },
  {
   "cell_type": "code",
   "execution_count": 23,
   "id": "0de9c19a",
   "metadata": {},
   "outputs": [],
   "source": [
    "def bagofwords(Doc):\n",
    "    \"\"\"\n",
    "    Cambia la letras a minusculas,\n",
    "    Filtra letra mayores a 2,\n",
    "    Quita espacios en blanco\n",
    "    Args:\n",
    "        texto (str): A string.\n",
    "    \n",
    "    Returns:\n",
    "        [[str]]: Arreglo que contiene documentos que son [str]\n",
    "    \"\"\"\n",
    "    x=Doc.strip().lower().split()\n",
    "    return list(filter(lambda x:len(x)>2,x))"
   ]
  },
  {
   "cell_type": "code",
   "execution_count": 28,
   "id": "590a3621",
   "metadata": {},
   "outputs": [
    {
     "data": {
      "text/plain": [
       "[['apple',\n",
       "  'want',\n",
       "  'commute',\n",
       "  'easy',\n",
       "  'amp',\n",
       "  'accord',\n",
       "  'new',\n",
       "  'patent',\n",
       "  'battery',\n",
       "  'aaplstudio',\n",
       "  'outlet',\n",
       "  'computer',\n",
       "  'need',\n",
       "  'battery',\n",
       "  'future'],\n",
       " ['need', 'help', 'apple', 'iphone6', 'amp', 'iphone6plus', 'checkitout']]"
      ]
     },
     "execution_count": 28,
     "metadata": {},
     "output_type": "execute_result"
    }
   ],
   "source": [
    "Corpus=[\"apple want commute easy amp accord new patent battery aapl\"\n",
    "\"studio outlet computer need battery future\",\n",
    "        \"need help apple iphone6 amp iphone6plus checkitout\"]\n",
    "Texto=sc.parallelize(Corpus,6)\n",
    "Texto=Texto.map(bagofwords)\n",
    "Texto.take(2)"
   ]
  },
  {
   "cell_type": "markdown",
   "id": "944a29a1",
   "metadata": {},
   "source": [
    "#### - TF"
   ]
  },
  {
   "cell_type": "code",
   "execution_count": 13,
   "id": "5b73384a",
   "metadata": {},
   "outputs": [],
   "source": [
    "import math\n",
    "def TF(Doc):\n",
    "    \"\"\"Funcion que calcula el tf de un documento \n",
    "\n",
    "    Args:\n",
    "        Doc (str): un Str que es un documento que contiene palabras\n",
    "\n",
    "    Returns:\n",
    "        (str,double): un RDD contiene (palabra,double) tupla.\"\"\"\n",
    "    #Obtenemos el total de palabras de doc\n",
    "    total=len(Doc)\n",
    "    #Lista sin repeticiones\n",
    "    DocSR=list(set(Doc))\n",
    "    #Obtenemos el tf para cada palabra\n",
    "    mapeo=list(map(lambda x:(x,Doc.count(x)),DocSR))\n",
    "    tf=list(map(lambda x:(x[0],1+math.log10(x[1]/total)),mapeo))\n",
    "    return (tf)"
   ]
  },
  {
   "cell_type": "code",
   "execution_count": 29,
   "id": "3c71082e",
   "metadata": {},
   "outputs": [
    {
     "data": {
      "text/plain": [
       "[[('outlet', -0.17609125905568135),\n",
       "  ('amp', -0.17609125905568135),\n",
       "  ('aaplstudio', -0.17609125905568135),\n",
       "  ('new', -0.17609125905568135),\n",
       "  ('accord', -0.17609125905568135),\n",
       "  ('patent', -0.17609125905568135),\n",
       "  ('computer', -0.17609125905568135),\n",
       "  ('need', -0.17609125905568135),\n",
       "  ('commute', -0.17609125905568135),\n",
       "  ('battery', 0.1249387366082999),\n",
       "  ('want', -0.17609125905568135),\n",
       "  ('future', -0.17609125905568135),\n",
       "  ('apple', -0.17609125905568135),\n",
       "  ('easy', -0.17609125905568135)],\n",
       " [('amp', 0.15490195998574308),\n",
       "  ('checkitout', 0.15490195998574308),\n",
       "  ('iphone6plus', 0.15490195998574308),\n",
       "  ('need', 0.15490195998574308),\n",
       "  ('help', 0.15490195998574308),\n",
       "  ('apple', 0.15490195998574308),\n",
       "  ('iphone6', 0.15490195998574308)]]"
      ]
     },
     "execution_count": 29,
     "metadata": {},
     "output_type": "execute_result"
    }
   ],
   "source": [
    "Corpus=[\"apple want commute easy amp accord new patent battery aapl\"\n",
    "\"studio outlet computer need battery future\",\n",
    "        \"need help apple iphone6 amp iphone6plus checkitout\"]\n",
    "Texto=sc.parallelize(Corpus,4)\n",
    "Texto=Texto.map(bagofwords)\n",
    "TextoTF=Texto.map(TF)\n",
    "TextoTF.take(2)"
   ]
  },
  {
   "cell_type": "markdown",
   "id": "387377d1",
   "metadata": {},
   "source": [
    "#### - IDF"
   ]
  },
  {
   "cell_type": "code",
   "execution_count": 15,
   "id": "83bcb5f9",
   "metadata": {},
   "outputs": [],
   "source": [
    "import math\n",
    "def IDF(Doc,corpus):\n",
    "    \"\"\"Funcion que calcula el IDF de un corpus de TF \n",
    "\n",
    "    Args:\n",
    "        Doc [[(str,double)]]: texto TF\n",
    "        Doc [str]:texto corpus basico procesado con bagofwords\n",
    "\n",
    "    Returns:\n",
    "        (str,double): corpus con IDF de cada palabra sin repeticiones\"\"\"\n",
    "    DocP=Doc.flatMap(lambda x:x)\n",
    "    DocP=DocP.map(lambda x:x[0]).distinct()\n",
    "    #Total documentos en corpus\n",
    "    total=corpus.count()\n",
    "    corpus2=corpus.collect()\n",
    "    #Extraer cantida de veces de cada palabra en los documentos\n",
    "    IDF=DocP.map(lambda x:list(map(lambda y:(x,1 if x in y else 0),corpus2)))\n",
    "    IDF2=IDF.flatMap(lambda x:x)\n",
    "    IDF2=IDF2.groupByKey().map(lambda x:(x[0],sum(x[1])))\n",
    "    IDF2=IDF2.map(lambda x:(x[0],math.log10(1+total/x[1])))\n",
    "    return IDF2"
   ]
  },
  {
   "cell_type": "code",
   "execution_count": 30,
   "id": "a58b6c7f",
   "metadata": {},
   "outputs": [
    {
     "data": {
      "text/plain": [
       "[('aaplstudio', 0.47712125471966244),\n",
       " ('accord', 0.47712125471966244),\n",
       " ('commute', 0.47712125471966244),\n",
       " ('iphone6', 0.47712125471966244),\n",
       " ('outlet', 0.47712125471966244),\n",
       " ('need', 0.3010299956639812),\n",
       " ('new', 0.47712125471966244),\n",
       " ('battery', 0.47712125471966244),\n",
       " ('checkitout', 0.47712125471966244),\n",
       " ('iphone6plus', 0.47712125471966244),\n",
       " ('help', 0.47712125471966244),\n",
       " ('amp', 0.3010299956639812),\n",
       " ('patent', 0.47712125471966244),\n",
       " ('computer', 0.47712125471966244),\n",
       " ('want', 0.47712125471966244),\n",
       " ('future', 0.47712125471966244),\n",
       " ('apple', 0.3010299956639812),\n",
       " ('easy', 0.47712125471966244)]"
      ]
     },
     "execution_count": 30,
     "metadata": {},
     "output_type": "execute_result"
    }
   ],
   "source": [
    "Corpus=[\"apple want commute easy amp accord new patent battery aapl\"\n",
    "\"studio outlet computer need battery future\",\n",
    "        \"need help apple iphone6 amp iphone6plus checkitout\"]\n",
    "Texto=sc.parallelize(Corpus,4)\n",
    "Texto=Texto.map(bagofwords)\n",
    "TextoTF=Texto.map(TF)\n",
    "TextoIDF=IDF(TextoTF,Texto)\n",
    "TextoIDF.collect()"
   ]
  },
  {
   "cell_type": "markdown",
   "id": "af381e21",
   "metadata": {},
   "source": [
    "#### - TFIDF"
   ]
  },
  {
   "cell_type": "code",
   "execution_count": 17,
   "id": "e0391c08",
   "metadata": {},
   "outputs": [],
   "source": [
    "def RecIDF(word,corpusIDF):\n",
    "        \"\"\"Funcion que recuperar el valor IDF de una palabra\n",
    "        Args:\n",
    "            word str:palabra a buscar\n",
    "            Doc [(str,double)]:texto IDF\n",
    "        Returns:\n",
    "            double: IDF numerico de una palbara\"\"\"\n",
    "        L=corpusIDF\n",
    "        EL=list(filter(lambda x:x[0]==word,L))\n",
    "        return EL[0][1]"
   ]
  },
  {
   "cell_type": "code",
   "execution_count": 18,
   "id": "0af710bf",
   "metadata": {},
   "outputs": [],
   "source": [
    "import math\n",
    "\n",
    "def TFIDF(TextoTF,TextoIDF):\n",
    "    \"\"\"Funcion que calcula el IDF para cada Doc de TF\n",
    "    Args:\n",
    "        Doc [[(str,double)]]: texto TF\n",
    "        Doc [(str,double)]:texto IDF\n",
    "\n",
    "    Returns:\n",
    "        [(str,double)]: texto con el TFIDF de cada palabra en DOC\"\"\"\n",
    "    corpusIDF=TextoIDF.collect()\n",
    "    TFIDF=TextoTF.map(lambda x:list(map((lambda y:(y[0],y[1]*RecIDF(y[0],corpusIDF))),x)))\n",
    "    return  TFIDF"
   ]
  },
  {
   "cell_type": "code",
   "execution_count": 31,
   "id": "a32db055",
   "metadata": {},
   "outputs": [
    {
     "data": {
      "text/plain": [
       "[[('outlet', -0.0840168824658118),\n",
       "  ('amp', -0.05300875094999675),\n",
       "  ('aaplstudio', -0.0840168824658118),\n",
       "  ('new', -0.0840168824658118),\n",
       "  ('accord', -0.0840168824658118),\n",
       "  ('patent', -0.0840168824658118),\n",
       "  ('computer', -0.0840168824658118),\n",
       "  ('need', -0.05300875094999675),\n",
       "  ('commute', -0.0840168824658118),\n",
       "  ('battery', 0.05961092677364147),\n",
       "  ('want', -0.0840168824658118),\n",
       "  ('future', -0.0840168824658118),\n",
       "  ('apple', -0.05300875094999675),\n",
       "  ('easy', -0.0840168824658118)],\n",
       " [('amp', 0.046630136342850424),\n",
       "  ('checkitout', 0.07390701750693268),\n",
       "  ('iphone6plus', 0.07390701750693268),\n",
       "  ('need', 0.046630136342850424),\n",
       "  ('help', 0.07390701750693268),\n",
       "  ('apple', 0.046630136342850424),\n",
       "  ('iphone6', 0.07390701750693268)]]"
      ]
     },
     "execution_count": 31,
     "metadata": {},
     "output_type": "execute_result"
    }
   ],
   "source": [
    "Corpus=[\"apple want commute easy amp accord new patent battery aapl\"\n",
    "\"studio outlet computer need battery future\",\n",
    "        \"need help apple iphone6 amp iphone6plus checkitout\"]\n",
    "Texto=sc.parallelize(Corpus,4)\n",
    "Texto=Texto.map(bagofwords)\n",
    "TextoTF=Texto.map(TF)\n",
    "TextoIDF=IDF(TextoTF,Texto)\n",
    "TextoTFIDF=TFIDF(TextoTF,TextoIDF)\n",
    "TextoTFIDF.collect()"
   ]
  },
  {
   "cell_type": "markdown",
   "id": "7172ce1b",
   "metadata": {},
   "source": [
    "#### - nGrams"
   ]
  },
  {
   "cell_type": "code",
   "execution_count": 20,
   "id": "58b3d81a",
   "metadata": {},
   "outputs": [],
   "source": [
    "def taken(n,tokens):\n",
    "    \"\"\"funcion para recuperar n elementos de un array no sc\n",
    "    Args:\n",
    "        n int:cantidad a recuperar\n",
    "        [tokens]:arreglo\n",
    "    Returs:\n",
    "        Str con n elementos del arreglo\"\"\"\n",
    "    if len(tokens)>=n:\n",
    "        tokens=list(map(lambda x:str(x),tokens))\n",
    "        val=((\" \").join(tokens[0:n]))\n",
    "    else:\n",
    "        val=\"\"\n",
    "    return val\n",
    "def tails(tokens):\n",
    "    \"\"\"funcion para generar una lista con todas las colas posibles\n",
    "    Args:\n",
    "        [tokens]:arreglo\n",
    "    Returs:\n",
    "        [tokens]:arreglo con un elemento menos\"\"\"\n",
    "    tailsss=[tokens]\n",
    "    for i in range(len(tokens)-1):\n",
    "        tailsss.append(tailsss[-1][1:])\n",
    "    return tailsss\n",
    "def nGrams(n,tokens):\n",
    "    \"\"\"Funcion que genera ngrams de una secuencia de tokens\n",
    "    Args:\n",
    "        n int: cantidad de gramas\n",
    "        [str]:lista de tokens\n",
    "\n",
    "    Returns:\n",
    "        [str]: lista de tokens\"\"\"\n",
    "    tokens=tokens.split()\n",
    "    tokens=tails(tokens)\n",
    "    Tok=list(map(lambda x:taken(n,x),tokens))\n",
    "    #elimino los vacios\n",
    "    Tok=list(filter(lambda x:len(x)>0,Tok))\n",
    "    return Tok"
   ]
  },
  {
   "cell_type": "code",
   "execution_count": 33,
   "id": "4a591c1d",
   "metadata": {},
   "outputs": [
    {
     "name": "stdout",
     "output_type": "stream",
     "text": [
      "Bigrama [['apple want', 'want commute', 'commute easy', 'easy amp', 'amp accord', 'accord new', 'new patent', 'patent battery', 'battery aaplstudio', 'aaplstudio outlet', 'outlet computer', 'computer need', 'need battery', 'battery future'], ['need help', 'help apple', 'apple iphone6', 'iphone6 amp', 'amp iphone6plus', 'iphone6plus checkitout']]\n",
      "\n",
      "Trigramas [['apple want commute', 'want commute easy', 'commute easy amp', 'easy amp accord', 'amp accord new', 'accord new patent', 'new patent battery', 'patent battery aaplstudio', 'battery aaplstudio outlet', 'aaplstudio outlet computer', 'outlet computer need', 'computer need battery', 'need battery future'], ['need help apple', 'help apple iphone6', 'apple iphone6 amp', 'iphone6 amp iphone6plus', 'amp iphone6plus checkitout']]\n",
      "\n",
      "Tetragramas [['apple want commute easy', 'want commute easy amp', 'commute easy amp accord', 'easy amp accord new', 'amp accord new patent', 'accord new patent battery', 'new patent battery aaplstudio', 'patent battery aaplstudio outlet', 'battery aaplstudio outlet computer', 'aaplstudio outlet computer need', 'outlet computer need battery', 'computer need battery future'], ['need help apple iphone6', 'help apple iphone6 amp', 'apple iphone6 amp iphone6plus', 'iphone6 amp iphone6plus checkitout']]\n",
      "\n"
     ]
    }
   ],
   "source": [
    "Corpus=[\"apple want commute easy amp accord new patent battery aapl\"\n",
    "\"studio outlet computer need battery future\",\n",
    "        \"need help apple iphone6 amp iphone6plus checkitout\"]\n",
    "Corpus=sc.parallelize(Corpus,4)\n",
    "#Calculamos Bigramas\n",
    "Bigrama=Corpus.map(lambda x:nGrams(2,x))\n",
    "print('Bigrama',Bigrama.take(5))\n",
    "print()\n",
    "#Calculamos Trigramas\n",
    "Trigramas=Corpus.map(lambda x:nGrams(3,x))\n",
    "print(\"Trigramas\",Trigramas.take(5))\n",
    "print()\n",
    "#Calculamos Tetragramas\n",
    "Tetragramas=Corpus.map(lambda x:nGrams(4,x))\n",
    "print(\"Tetragramas\",Tetragramas.take(5))\n",
    "print()"
   ]
  },
  {
   "cell_type": "code",
   "execution_count": null,
   "id": "194e5887",
   "metadata": {},
   "outputs": [],
   "source": []
  }
 ],
 "metadata": {
  "kernelspec": {
   "display_name": "Python 3 (ipykernel)",
   "language": "python",
   "name": "python3"
  },
  "language_info": {
   "codemirror_mode": {
    "name": "ipython",
    "version": 3
   },
   "file_extension": ".py",
   "mimetype": "text/x-python",
   "name": "python",
   "nbconvert_exporter": "python",
   "pygments_lexer": "ipython3",
   "version": "3.8.10"
  }
 },
 "nbformat": 4,
 "nbformat_minor": 5
}
