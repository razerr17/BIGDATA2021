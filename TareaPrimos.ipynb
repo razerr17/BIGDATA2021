{
 "cells": [
  {
   "cell_type": "markdown",
   "id": "ffefae53",
   "metadata": {},
   "source": [
    "# Números Primos\n",
    "Crear un programa en haskell que genere una lista de números primos siguiendo el siguiente algoritmo:\n",
    "el elemento n+1 de la lista es primo, si y solo si no es divisible por ninguno del los n elementos anteriores de la lista, caso base la lista del primer elemento con el numero 2."
   ]
  },
  {
   "cell_type": "code",
   "execution_count": 8,
   "id": "af0b64af",
   "metadata": {},
   "outputs": [],
   "source": [
    "listanPrimos :: Int -> [Int]\n",
    "listanPrimos x=take x primos\n",
    "    where\n",
    "        primos = map head $ iterate (\\(x:xs) -> [y | y<-xs, y `mod` x /= 0 ]) [2..]"
   ]
  },
  {
   "cell_type": "code",
   "execution_count": 9,
   "id": "1a0af9dc",
   "metadata": {},
   "outputs": [
    {
     "data": {
      "text/plain": [
       "[2,3,5,7,11]"
      ]
     },
     "metadata": {},
     "output_type": "display_data"
    }
   ],
   "source": [
    "listanPrimos 5"
   ]
  }
 ],
 "metadata": {
  "kernelspec": {
   "display_name": "Haskell",
   "language": "haskell",
   "name": "haskell"
  },
  "language_info": {
   "codemirror_mode": "ihaskell",
   "file_extension": ".hs",
   "mimetype": "text/x-haskell",
   "name": "haskell",
   "pygments_lexer": "Haskell",
   "version": "8.10.7"
  }
 },
 "nbformat": 4,
 "nbformat_minor": 5
}
